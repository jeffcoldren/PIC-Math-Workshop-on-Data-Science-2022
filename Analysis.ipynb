{
  "nbformat": 4,
  "nbformat_minor": 0,
  "metadata": {
    "colab": {
      "provenance": [],
      "authorship_tag": "ABX9TyMQyRWF5IjKSxDhhGclwPci",
      "include_colab_link": true
    },
    "kernelspec": {
      "name": "python3",
      "display_name": "Python 3"
    },
    "language_info": {
      "name": "python"
    }
  },
  "cells": [
    {
      "cell_type": "markdown",
      "metadata": {
        "id": "view-in-github",
        "colab_type": "text"
      },
      "source": [
        "<a href=\"https://colab.research.google.com/github/jeffcoldren/PIC-Math-Workshop-on-Data-Science-2022/blob/main/Analysis.ipynb\" target=\"_parent\"><img src=\"https://colab.research.google.com/assets/colab-badge.svg\" alt=\"Open In Colab\"/></a>"
      ]
    },
    {
      "cell_type": "markdown",
      "source": [
        "# YSU Data Analysis Project"
      ],
      "metadata": {
        "id": "PSfbMdD7NUjj"
      }
    },
    {
      "cell_type": "markdown",
      "source": [
        "Jeff, George, Moon, and Tom\n",
        "Fall, 2022"
      ],
      "metadata": {
        "id": "kss4-wGYNdoH"
      }
    },
    {
      "cell_type": "code",
      "execution_count": null,
      "metadata": {
        "id": "1qj6tcL3NTfo"
      },
      "outputs": [],
      "source": []
    }
  ]
}